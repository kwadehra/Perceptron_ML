{
 "cells": [
  {
   "cell_type": "code",
   "execution_count": 1,
   "metadata": {},
   "outputs": [
    {
     "name": "stdout",
     "output_type": "stream",
     "text": [
      "<type 'int'>\n",
      "<type 'str'>\n",
      "a+b\n",
      "aaaaaaaa\n",
      "9\n",
      "27\n",
      "['This I', ' ', 'trING']\n",
      "<type 'list'>\n"
     ]
    }
   ],
   "source": [
    "## String and Variables\n",
    "my_var = 1\n",
    "print type(my_var)\n",
    "\n",
    "my_var = 'String'\n",
    "print type(my_var)\n",
    "\n",
    "str1 = 'a'\n",
    "str2 = '+b'\n",
    "print str1+str2\n",
    "\n",
    "x = 'a'\n",
    "y = x*8\n",
    "print y\n",
    "\n",
    "\n",
    "init_int = 3\n",
    "print init_int*3\n",
    "print init_int**3\n",
    "\n",
    "s = 'This IS StrING'\n",
    "s.lower()\n",
    "s.upper()\n",
    "\n",
    "ix = s.split('S')\n",
    "print ix\n",
    "print type(ix)"
   ]
  },
  {
   "cell_type": "code",
   "execution_count": 24,
   "metadata": {},
   "outputs": [
    {
     "name": "stdout",
     "output_type": "stream",
     "text": [
      "[{'1': 2, 1: '11', 3: 4}, {'1': 2, 1: '11', 3: 4}, {'1': 2, 1: '11', 3: 4}, {'1': 2, 1: '11', 3: 4}, {'1': 2, 1: '11', 3: 4}, {'1': 2, 1: '11', 3: 4}, {'1': 2, 1: '11', 3: 4}, {'1': 2, 1: '11', 3: 4}, 'This I', ' ', 'trING', 16, 16, [1, 2, 3], 16, [1, 2, 3], 16, [1, 2, 3], 16, [1, 2, 3], 16, [1, 2, 3], 16, [1, 2, 3], 16, [1, 2, 3], 16, [1, 2, 3], 16, [1, 2, 3], 16, [1, 2, 3], 16]\n",
      "[{'1': 2, 1: '11', 3: 4}, {'1': 2, 1: '11', 3: 4}, {'1': 2, 1: '11', 3: 4}, {'1': 2, 1: '11', 3: 4}, {'1': 2, 1: '11', 3: 4}, {'1': 2, 1: '11', 3: 4}, {'1': 2, 1: '11', 3: 4}, {'1': 2, 1: '11', 3: 4}, 'This I', ' ', 'trING', 16, 16, [1, 2, 3], 16, [1, 2, 3], 16, [1, 2, 3], 16, [1, 2, 3], 16, [1, 2, 3], 16, [1, 2, 3], 16, [1, 2, 3], 16, [1, 2, 3], 16, [1, 2, 3], 16, [1, 2, 3], 16, [1, 2, 3]]\n",
      "[{'1': 2, 1: '11', 3: 4}, {'1': 2, 1: '11', 3: 4}, {'1': 2, 1: '11', 3: 4}, {'1': 2, 1: '11', 3: 4}, {'1': 2, 1: '11', 3: 4}, {'1': 2, 1: '11', 3: 4}, {'1': 2, 1: '11', 3: 4}, {'1': 2, 1: '11', 3: 4}, {'1': 2, 1: '11', 3: 4}, 'This I', ' ', 'trING', 16, 16, [1, 2, 3], 16, [1, 2, 3], 16, [1, 2, 3], 16, [1, 2, 3], 16, [1, 2, 3], 16, [1, 2, 3], 16, [1, 2, 3], 16, [1, 2, 3], 16, [1, 2, 3], 16, [1, 2, 3], 16, [1, 2, 3]]\n",
      "-----------------\n",
      "35\n",
      "{'1': 2, 1: '11', 3: 4}\n",
      "[1, 2, 3]\n",
      "[1, 2, 3]\n",
      "----------------------\n",
      "[{'1': 2, 1: '11', 3: 4}, {'1': 2, 1: '11', 3: 4}]\n"
     ]
    }
   ],
   "source": [
    "##List\n",
    "ix.append(16)\n",
    "print ix\n",
    "ix.append([1,2,3])\n",
    "print ix\n",
    "ix.insert(0,{'1':2,3:4,1:'11'})\n",
    "print ix\n",
    "\n",
    "print \"-----------------\"\n",
    "## Slicing of lists\n",
    "print len(ix)\n",
    "print ix[0]\n",
    "print ix[len(ix)-1]\n",
    "print ix[-1]\n",
    "print \"----------------------\"\n",
    "###ix[<start>:<end+1>]\n"
   ]
  },
  {
   "cell_type": "code",
   "execution_count": 33,
   "metadata": {},
   "outputs": [
    {
     "name": "stdout",
     "output_type": "stream",
     "text": [
      "-----------------\n",
      "[1, 2, 3, 4, 5, 6, 7, 8, 9]\n",
      "[1, 3, 5, 7, 9]\n",
      "[2, 4, 6, 8]\n"
     ]
    }
   ],
   "source": [
    "print \"-----------------\"\n",
    "ix = range(1,10)\n",
    "print ix\n",
    "\n",
    "print ix[::2]\n",
    "print ix[1::2]"
   ]
  },
  {
   "cell_type": "code",
   "execution_count": 38,
   "metadata": {},
   "outputs": [
    {
     "name": "stdout",
     "output_type": "stream",
     "text": [
      "1\n",
      "[(1, 2), ('3', 4), 1]\n",
      "[(1, 2, 3), ('3', 4), 4]\n"
     ]
    }
   ],
   "source": [
    "## Tuples\n",
    "ix = (1,2,3)\n",
    "print ix[0]\n",
    "\n",
    "my_list = [(1,2), ('3',4)]\n",
    "my_list.append(1)\n",
    "print my_list\n",
    "my_list[-1] = 4\n",
    "my_list[0] = (1,2,3)\n",
    "print my_list"
   ]
  },
  {
   "cell_type": "code",
   "execution_count": 42,
   "metadata": {},
   "outputs": [
    {
     "name": "stdout",
     "output_type": "stream",
     "text": [
      "(1, [2, 3])\n",
      "(1, [2, 3, 1])\n"
     ]
    }
   ],
   "source": [
    "my_tuple = (1,[2,3])\n",
    "print my_tuple\n",
    "my_tuple[1].append(1)\n",
    "print my_tuple"
   ]
  },
  {
   "cell_type": "code",
   "execution_count": 50,
   "metadata": {},
   "outputs": [
    {
     "name": "stdout",
     "output_type": "stream",
     "text": [
      "{2: '5', 'my_key': 'my_value'}\n",
      "[2, 'my_key']\n",
      "['5', 'my_value']\n"
     ]
    }
   ],
   "source": [
    "## Dictionaries\n",
    "x = dict()\n",
    "x.setdefault('my_key','my_value')\n",
    "x[2] = '5'\n",
    "print x\n",
    "print x.keys()\n",
    "print x.values()"
   ]
  },
  {
   "cell_type": "code",
   "execution_count": 53,
   "metadata": {},
   "outputs": [
    {
     "name": "stdout",
     "output_type": "stream",
     "text": [
      "set([1, 2, 3, 4])\n",
      "1\n",
      "2\n",
      "3\n",
      "4\n"
     ]
    }
   ],
   "source": [
    "## Set\n",
    "x = set([1,2,3,4,1,4])\n",
    "print x\n",
    "for ele in x:\n",
    "    print ele"
   ]
  },
  {
   "cell_type": "code",
   "execution_count": 66,
   "metadata": {},
   "outputs": [
    {
     "ename": "SyntaxError",
     "evalue": "non-keyword arg after keyword arg (<ipython-input-66-5883ba108b9c>, line 14)",
     "output_type": "error",
     "traceback": [
      "\u001b[0;36m  File \u001b[0;32m\"<ipython-input-66-5883ba108b9c>\"\u001b[0;36m, line \u001b[0;32m14\u001b[0m\n\u001b[0;31m    sum(1,2,3,4,5,a=1,b=2,6)\u001b[0m\n\u001b[0;31mSyntaxError\u001b[0m\u001b[0;31m:\u001b[0m non-keyword arg after keyword arg\n"
     ]
    }
   ],
   "source": [
    "def sum(v1,v2,v3, *args,**kwargs):\n",
    "    print v1+v2+v3\n",
    "    print kwargs\n",
    "    print args\n",
    "    \n",
    "# def sumgeneric(*args):\n",
    "#     print \n",
    "#     for ix in args:\n",
    "    \n",
    "sum(1,2,3)\n",
    "print \"------------------\"\n",
    "sum(1,2,3,4,5)\n",
    "print \"-------------\"\n",
    "sum(1,2,3,4,5,a=1,b=2,6)"
   ]
  },
  {
   "cell_type": "code",
   "execution_count": 85,
   "metadata": {},
   "outputs": [],
   "source": [
    "class MyClass:\n",
    "    my_list = [] ## Shared among all the objects\n",
    "    def __init__(self,x=1,y=2):\n",
    "        print \"Welcome to the constructor\"\n",
    "        self.x = x\n",
    "        self.y = y\n",
    "        self.my_private_list = []\n",
    "    def add(self):\n",
    "        return self.x+self.y\n",
    "    def multiply(self):\n",
    "        return self.x*self.y\n",
    "    def square(self):\n",
    "        return self.x**2\n",
    "    def addit(self,value):\n",
    "        self.my_list.append(value)\n",
    "    def add_private(self, value):\n",
    "        self.my_private_list.append(value)"
   ]
  },
  {
   "cell_type": "code",
   "execution_count": 86,
   "metadata": {},
   "outputs": [
    {
     "name": "stdout",
     "output_type": "stream",
     "text": [
      "Welcome to the constructor\n",
      "4\n",
      "2\n",
      "['v1']\n",
      "~~~~~~~~~~~~~~~~~~~~~~~~\n",
      "Welcome to the constructor\n",
      "3\n",
      "9\n",
      "['v1']\n"
     ]
    }
   ],
   "source": [
    "obj1 = MyClass(4)\n",
    "print obj1.x\n",
    "print obj1.y\n",
    "obj1.addit('obj1 value')\n",
    "obj1.add_private('v1')\n",
    "print obj1.my_private_list\n",
    "print \"~~~~~~~~~~~~~~~~~~~~~~~~\"\n",
    "obj2 = MyClass(3,9)\n",
    "print obj2.x\n",
    "print obj2.y\n",
    "obj2.addit('obj2 value')\n",
    "obj2.add_private('v2')\n",
    "\n",
    "print obj1.my_private_list"
   ]
  },
  {
   "cell_type": "code",
   "execution_count": 95,
   "metadata": {
    "collapsed": true
   },
   "outputs": [],
   "source": [
    "import numpy as np"
   ]
  },
  {
   "cell_type": "code",
   "execution_count": 96,
   "metadata": {},
   "outputs": [
    {
     "name": "stdout",
     "output_type": "stream",
     "text": [
      "[1 2 3 4]\n"
     ]
    }
   ],
   "source": [
    "print np.unique([1,2,3,4,1])"
   ]
  },
  {
   "cell_type": "code",
   "execution_count": 107,
   "metadata": {},
   "outputs": [
    {
     "name": "stdout",
     "output_type": "stream",
     "text": [
      "<type 'list'>\n",
      "(4,)\n",
      "<type 'numpy.ndarray'>\n"
     ]
    }
   ],
   "source": [
    "temp_list = [1,2,3,4]\n",
    "print type(temp_list)\n",
    "np_arr = np.asarray(temp_list)\n",
    "temp_list = np.array(temp_list)\n",
    "print np_arr.shape\n",
    "print type(temp_list)"
   ]
  },
  {
   "cell_type": "code",
   "execution_count": 103,
   "metadata": {},
   "outputs": [
    {
     "name": "stdout",
     "output_type": "stream",
     "text": [
      "float64\n",
      "<type 'numpy.ndarray'>\n"
     ]
    }
   ],
   "source": [
    "test_mat = np.zeros((2,2))\n",
    "print test_mat.dtype\n",
    "print type(test_mat)"
   ]
  },
  {
   "cell_type": "code",
   "execution_count": null,
   "metadata": {
    "collapsed": true
   },
   "outputs": [],
   "source": []
  },
  {
   "cell_type": "code",
   "execution_count": null,
   "metadata": {
    "collapsed": true
   },
   "outputs": [],
   "source": []
  },
  {
   "cell_type": "code",
   "execution_count": null,
   "metadata": {
    "collapsed": true
   },
   "outputs": [],
   "source": []
  },
  {
   "cell_type": "code",
   "execution_count": null,
   "metadata": {
    "collapsed": true
   },
   "outputs": [],
   "source": []
  },
  {
   "cell_type": "code",
   "execution_count": null,
   "metadata": {
    "collapsed": true
   },
   "outputs": [],
   "source": []
  },
  {
   "cell_type": "code",
   "execution_count": null,
   "metadata": {
    "collapsed": true
   },
   "outputs": [],
   "source": []
  }
 ],
 "metadata": {
  "kernelspec": {
   "display_name": "Python 2",
   "language": "python",
   "name": "python2"
  },
  "language_info": {
   "codemirror_mode": {
    "name": "ipython",
    "version": 2
   },
   "file_extension": ".py",
   "mimetype": "text/x-python",
   "name": "python",
   "nbconvert_exporter": "python",
   "pygments_lexer": "ipython2",
   "version": "2.7.12"
  }
 },
 "nbformat": 4,
 "nbformat_minor": 2
}
